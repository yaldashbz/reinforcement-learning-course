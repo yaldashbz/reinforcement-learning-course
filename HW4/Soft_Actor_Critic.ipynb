{
  "cells": [
    {
      "cell_type": "markdown",
      "metadata": {
        "id": "r9HxtwHbk6Pc"
      },
      "source": [
        "# Soft Actor Critic Agent(115 Points)\n",
        "\n",
        "> Name: Yalda Shabanzadeh\n",
        "\n",
        "> SID: 98101822\n",
        "\n"
      ]
    },
    {
      "cell_type": "markdown",
      "metadata": {
        "id": "1PJUxRV4MIod"
      },
      "source": [
        "In this notebook, we are going to implement **Soft Actor Critic (SAC)**\n",
        "on the **CartPole** environment in online and offline settings. In this framework, the actor aims to maximize the expected reward while also maximizing **entropy**. That is, to succeed at the task while acting as randomly as possible. This method seeks a high entropy in the policy to explicitly encourage exploration. For the offline setting, you are going to make SAC conservative using CQL method.\n",
        "\n",
        "* SAC is an off-policy algorithm.\n",
        "* The version of SAC implemented here can only be used for environments with discrete action spaces.\n",
        "* An alternate version of SAC, which slightly changes the policy update  rule, can be implemented to handle continuous action spaces.\n",
        "* Complete the **TODO** parts in the code accordingly.\n",
        "* Remember to answer the conceptual questions.\n",
        "\n",
        "\n"
      ]
    },
    {
      "cell_type": "code",
      "execution_count": 1,
      "metadata": {
        "id": "UC-BecdPmdb3"
      },
      "outputs": [],
      "source": [
        "import torch\n",
        "import torch.nn as nn\n",
        "import torch.nn.functional as F\n",
        "from torch.distributions import Normal\n",
        "import torch.optim as optim\n",
        "import numpy as np\n",
        "import random\n",
        "import gym\n",
        "import matplotlib.pyplot as plt\n",
        "import math\n",
        "\n",
        "\n",
        "seed = 42\n",
        "random.seed(seed)\n",
        "np.random.seed(seed)\n",
        "torch.manual_seed(seed)\n",
        "torch.cuda.manual_seed(seed)\n",
        "torch.backends.cudnn.deterministic = True"
      ]
    },
    {
      "cell_type": "markdown",
      "metadata": {
        "id": "_whWTLZejkm3"
      },
      "source": [
        "## Network Structure (8 points)\n",
        "For constructing SAC agent, we use objects of feedforward neural networks with 3 layers. Complete the code below."
      ]
    },
    {
      "cell_type": "code",
      "execution_count": 3,
      "metadata": {
        "id": "4pxOyt0xh4nN"
      },
      "outputs": [],
      "source": [
        "class Network(torch.nn.Module):\n",
        "\n",
        "    def __init__(self, input_dimension, output_dimension, output_activation=torch.nn.Identity()):\n",
        "        super(Network, self).__init__()\n",
        "        ##########################################################\n",
        "        # TODO (4 points):\n",
        "        # Define your network layers.\n",
        "        ##########################################################\n",
        "        self.fc1 = nn.Linear(input_dimension, 64)\n",
        "        self.fc2 = nn.Linear(64, 64)\n",
        "        self.fc3 = nn.Linear(64, output_dimension)\n",
        "        self.output_activation = output_activation\n",
        "        ##########################################################\n",
        "\n",
        "    def forward(self, inpt):\n",
        "        output = None\n",
        "        ##########################################################\n",
        "        # TODO (4 points):\n",
        "        # Use relu and the output activation functions to calculate the output\n",
        "        ##########################################################\n",
        "        x = F.relu(self.fc1(inpt))\n",
        "        x = F.relu(self.fc2(x))\n",
        "        output = self.output_activation(self.fc3(x))\n",
        "        return output\n",
        "        ##########################################################"
      ]
    },
    {
      "cell_type": "markdown",
      "metadata": {
        "id": "DToSGdmDka1u"
      },
      "source": [
        "## Replay Buffer\n",
        "\n",
        "A SAC agent needs a replay buffer, from which previously visited states can be sampled. You can use the implemented code below. You are going to use the replay buffer of a pretrained online agent to train the offline model."
      ]
    },
    {
      "cell_type": "code",
      "execution_count": 4,
      "metadata": {
        "id": "UC7jTwJXh8wl"
      },
      "outputs": [],
      "source": [
        "import numpy as np\n",
        "\n",
        "\n",
        "class ReplayBuffer:\n",
        "\n",
        "    def __init__(self, environment, capacity=500000):\n",
        "        transition_type_str = self.get_transition_type_str(environment)\n",
        "        self.buffer = np.zeros(capacity, dtype=transition_type_str)\n",
        "        self.weights = np.zeros(capacity)\n",
        "        self.head_idx = 0\n",
        "        self.count = 0\n",
        "        self.capacity = capacity\n",
        "        self.max_weight = 10**-2\n",
        "        self.delta = 10**-4\n",
        "        self.indices = None\n",
        "        self.mirror_index = np.random.permutation(range(self.buffer.shape[0]))\n",
        "\n",
        "    def get_transition_type_str(self, environment):\n",
        "        state_dim = environment.observation_space.shape[0]\n",
        "        state_dim_str = '' if state_dim == () else str(state_dim)\n",
        "        state_type_str = environment.observation_space.sample().dtype.name\n",
        "        action_dim = environment.action_space.shape\n",
        "        action_dim_str = '' if action_dim == () else str(action_dim)\n",
        "        action_type_str = environment.action_space.sample().__class__.__name__\n",
        "\n",
        "        # type str for transition = 'state type, action type, reward type, state type'\n",
        "        transition_type_str = '{0}{1}, {2}{3}, float32, {0}{1}, bool'.format(state_dim_str, state_type_str,\n",
        "                                                                             action_dim_str, action_type_str)\n",
        "\n",
        "        return transition_type_str\n",
        "\n",
        "    def add_transition(self, transition):\n",
        "        self.buffer[self.head_idx] = transition\n",
        "        self.weights[self.head_idx] = self.max_weight\n",
        "\n",
        "        self.head_idx = (self.head_idx + 1) % self.capacity\n",
        "        self.count = min(self.count + 1, self.capacity)\n",
        "\n",
        "    def sample_minibatch(self, size=100, batch_deterministic_start=None):\n",
        "        set_weights = self.weights[:self.count] + self.delta\n",
        "        probabilities = set_weights / sum(set_weights)\n",
        "        if batch_deterministic_start is None:\n",
        "            self.indices = np.random.choice(range(self.count), size, p=probabilities, replace=False)\n",
        "        else:\n",
        "            self.indices = self.mirror_index[batch_deterministic_start:batch_deterministic_start+size]\n",
        "        return self.buffer[self.indices]\n",
        "\n",
        "    def update_weights(self, prediction_errors):\n",
        "        max_error = max(prediction_errors)\n",
        "        self.max_weight = max(self.max_weight, max_error)\n",
        "        self.weights[self.indices] = prediction_errors\n",
        "\n",
        "    def get_size(self):\n",
        "        return self.count"
      ]
    },
    {
      "cell_type": "markdown",
      "metadata": {
        "id": "fB2m89BjlNXY"
      },
      "source": [
        "## Questions (18 points)\n",
        "\n",
        "❓ We know that standard RL maximizes the expected sum of rewards. What is the objective function of SAC algorithm? Compare it to the standard RL loss.\n",
        "> Soft Actor-Critic (SAC) is an algorithm that optimizes a stochastic policy in an off-policy way, forming a bridge between stochastic policy optimization and DDPG-style approaches. The objective function of SAC is to maximize the expected sum of rewards plus an entropy term. The entropy term encourages exploration by discouraging the policy from becoming too certain about its actions.\n",
        "\n",
        "> $J(\\theta)=\\Sigma_{t=0}^{T}\\mathbb{E}_{(s_t,a_t)\\sim{\\rho_\\pi}}[r(s_t,a_t) + \\alpha H(\\pi(.|s_t))]$\n",
        "\n",
        "\n",
        "❓ Write down the actor cost function.\n",
        "> We train the Policy network $\\pi$ by minimizing the following error:\n",
        "\n",
        " $J_{\\pi}(\\phi)=\\mathbb{E}_{s_t\\sim{D}}[D_{KL}(\\pi_{\\phi}(.|s_t)||\\frac{\\exp(Q_\\theta(s_t,.))}{Z_{\\theta}(s_t)})]$\n",
        "\n",
        "> This objective function is basically trying to make the distribution of our Policy function look more like the distribution of the exponentiation of our Q Function normalized by another function Z.\n",
        "\n",
        "❓ Write down the critic cost function.\n",
        "> We train the Q network by minimizing the following error:\n",
        "\n",
        "$J_{Q}(\\theta)=\\mathbb{E}_{(s_t,a_t)\\sim{D}}[\\frac{1}{2}(Q_{\\theta}(s_t,a_t)-\\hat{Q}(s_t,a_t))^2]$\n",
        "where \\\\\n",
        "$\\hat{Q}(s_t,a_t)=r(s_t,a_t)+\\gamma\\mathbb{E}_{s_{t+1}\\sim p}[V_{\\bar{\\psi}}(s_{t+1})]$\n",
        "\n",
        "> Minimizing this objective function amounts to the following: For all (state, action) pairs in the experience replay buffer, we want to minimize the squared difference between the prediction of our Q function and the immediate (one time-step) reward plus the discounted expected Value of the next state. Note that the Value comes from a Value function parameterized by $\\bar{\\psi}$. This is an additional Value function called the target value function.\n",
        "\n",
        "> Also we train the Value network by minimizing the following error:\n",
        "\n",
        "$J_{V}(\\psi)=\\mathbb{E}_{s_t\\sim{D}}[\\frac{1}{2}(V_{\\psi}(s_t)-\\mathbb{E}_{a_t\\sim\\pi_\\phi}[Q_\\theta(s_t,a_t)-\\log \\pi_\\phi (a_t|s_t)])^2]$\n",
        "\n",
        "\n",
        "❓ Elaborate on the reason why most implementations of SAC use two critics (one local and one target).\n",
        "\n",
        "> SAC makes use of three networks: a state value function V parameterized by $\\psi$, a soft Q-function Q parameterized by $\\theta$, and a policy function $\\pi$ parameterized by $\\phi$. While there is no need in principle to have separate approximators for the V and Q functions which are related through the policy, the authors say that in practice having separate function approximators help in convergence. So we need to train the three function approximators as told above.\n",
        "\n",
        "> The local critic is updated at each training step, while the target critic is a slowly updated version of the local critic. By using two critics, it helps to reduce the overestimation bias that can occur in single-critic architectures. The target critic provides a more stable and accurate estimate of the Q-values, leading to improved learning and performance.\n",
        "\n",
        "\n",
        "\n",
        "❓ What is the difference between training samples in offline and online settings?\n",
        "> In the offline setting, the agent learns from a fixed dataset of pre-collected experiences. The training samples are already available, and the agent does not interact with the environment during training. The dataset typically consists of state-action pairs and corresponding rewards. On the other hand, in the online setting, the agent interacts with the environment in real-time, collecting experiences and using them to update the policy and value function estimations.\n",
        "\n",
        "\n",
        "\n",
        "❓ How does adding CQL on top of SAC change the objective function?\n",
        "> When CQL (Conservative Q-Learning) is added to SAC, it changes the objective function by introducing an additional term that encourages the policy to be conservative and match the behavior of the offline dataset. The CQL loss penalizes the policy for taking actions that deviate significantly from the behavior observed in the offline dataset. It helps to ensure that the learned policy stays within a conservative region and avoids exploring actions that may have a high variance or risk. Therefore, the objective function of SAC with CQL includes the additional CQL loss term, which modifies the policy update to be more conservative.\n",
        "\n",
        "\n",
        "\n"
      ]
    },
    {
      "cell_type": "markdown",
      "metadata": {
        "id": "5wOrt_EmfFFD"
      },
      "source": [
        "## SAC Agent (50 points)"
      ]
    },
    {
      "cell_type": "markdown",
      "metadata": {
        "id": "ScEk94Ubb01W"
      },
      "source": [
        "Now complete the following class. You can use the auxiliary methods provided in the class."
      ]
    },
    {
      "cell_type": "code",
      "execution_count": 51,
      "metadata": {
        "id": "A8bEgUc2hmet"
      },
      "outputs": [],
      "source": [
        "class SACAgent:\n",
        "\n",
        "    ALPHA_INITIAL = 1.\n",
        "    REPLAY_BUFFER_BATCH_SIZE = 100\n",
        "    DISCOUNT_RATE = 0.99\n",
        "    LEARNING_RATE = 10 ** -4\n",
        "    SOFT_UPDATE_INTERPOLATION_FACTOR = 0.01\n",
        "    TRADEOFF_FACTOR = 5 # trade-off factor in the CQL\n",
        "\n",
        "    def __init__(self, environment, replay_buffer=None, use_cql=False, offline=False):\n",
        "\n",
        "        assert (use_cql and offline) or (not use_cql), 'Please activate the offline flag for CQL.'\n",
        "        assert (offline and replay_buffer is not None) or (not offline), 'Please pass a replay buffer to the offline method.'\n",
        "\n",
        "        self.environment = environment\n",
        "        self.state_dim = self.environment.observation_space.shape[0]\n",
        "        self.action_dim = self.environment.action_space.n\n",
        "\n",
        "        self.offline = offline\n",
        "        self.replay_buffer = ReplayBuffer(self.environment) if replay_buffer is None else replay_buffer\n",
        "        self.use_cql = use_cql\n",
        "\n",
        "        ##########################################################\n",
        "        # TODO (6 points):\n",
        "        # Define critics usig your implemented feed forward netwrok.\n",
        "        ##########################################################\n",
        "        self.critic_local = Network(self.state_dim, self.action_dim)\n",
        "        self.critic_local2 = Network(self.state_dim, self.action_dim)\n",
        "        self.critic_optimiser = torch.optim.Adam(\n",
        "            self.critic_local.parameters(), lr=self.LEARNING_RATE)\n",
        "        self.critic_optimiser2 = torch.optim.Adam(\n",
        "            self.critic_local2.parameters(), lr=self.LEARNING_RATE)\n",
        "        self.critic_target = Network(self.state_dim, self.action_dim)\n",
        "        self.critic_target2 = Network(self.state_dim, self.action_dim)\n",
        "        ##########################################################\n",
        "\n",
        "        self.soft_update_target_networks(tau=1.)\n",
        "\n",
        "        ##########################################################\n",
        "        # TODO (2 points):\n",
        "        # Define the actor using your implemented feed forward netwrok.\n",
        "        # Define the actor optimizer using torch.Adam.\n",
        "        ##########################################################\n",
        "        self.actor_local = Network(\n",
        "            self.state_dim,\n",
        "            self.action_dim,\n",
        "            torch.nn.Softmax(dim=1)\n",
        "        )\n",
        "        self.actor_optimiser = torch.optim.Adam(\n",
        "            self.actor_local.parameters(), lr=self.LEARNING_RATE)\n",
        "        ##########################################################\n",
        "\n",
        "        self.target_entropy = 0.98 * -np.log(1 / self.environment.action_space.n)\n",
        "        self.log_alpha = torch.tensor(np.log(self.ALPHA_INITIAL), requires_grad=True)\n",
        "        self.alpha = self.log_alpha.exp()\n",
        "        self.alpha_optimiser = torch.optim.Adam([self.log_alpha], lr=self.LEARNING_RATE)\n",
        "\n",
        "    def get_next_action(self, state, evaluation_episode=False):\n",
        "        if evaluation_episode:\n",
        "            discrete_action = self.get_action_deterministically(state)\n",
        "        else:\n",
        "            discrete_action = self.get_action_nondeterministically(state)\n",
        "        return discrete_action\n",
        "\n",
        "    def get_action_nondeterministically(self, state):\n",
        "        action_probabilities = self.get_action_probabilities(state)\n",
        "        discrete_action = np.random.choice(range(self.action_dim), p=action_probabilities)\n",
        "        return discrete_action\n",
        "\n",
        "    def get_action_deterministically(self, state):\n",
        "        action_probabilities = self.get_action_probabilities(state)\n",
        "        discrete_action = np.argmax(action_probabilities)\n",
        "        return discrete_action\n",
        "\n",
        "    def cql_loss(self, q_values, soft_q_values):\n",
        "        logsumexp_q_values = torch.logsumexp(q_values, dim=1)\n",
        "        return logsumexp_q_values.mean() - soft_q_values.mean()\n",
        "\n",
        "    def critic_loss(self, states_tensor, actions_tensor, rewards_tensor,\n",
        "                    next_states_tensor, done_tensor):\n",
        "        ##########################################################\n",
        "        # TODO (12 points):\n",
        "        # You are going to calculate critic losses in this method.\n",
        "        # Also you should implement the CQL loss if the corresponding\n",
        "        # flag is set.\n",
        "        ##########################################################\n",
        "        critic_loss, critic2_loss = 0, 0\n",
        "        with torch.no_grad():\n",
        "            action_probs, log_action_probs = self.get_action_info(next_states_tensor)\n",
        "            q1_target_next = self.critic_target(next_states_tensor)\n",
        "            q2_target_next = self.critic_target2(next_states_tensor)\n",
        "            soft_state_values = (action_probs * (\n",
        "                    torch.min(q1_target_next, q2_target_next) + -self.alpha * log_action_probs\n",
        "            )).sum(dim=1)\n",
        "\n",
        "            next_q_values = rewards_tensor + ~done_tensor * self.DISCOUNT_RATE * soft_state_values\n",
        "\n",
        "        q1_local = self.critic_local(states_tensor)\n",
        "        q2_local = self.critic_local2(states_tensor)\n",
        "        batch_range = torch.arange(states_tensor.size(0))\n",
        "        soft_q_values = q1_local[batch_range, actions_tensor]\n",
        "        soft_q_values2 = q2_local[batch_range, actions_tensor]\n",
        "        critic_mse = torch.nn.MSELoss(reduction=\"none\")(soft_q_values, next_q_values)\n",
        "        critic2_mse = torch.nn.MSELoss(reduction=\"none\")(soft_q_values2, next_q_values)\n",
        "        weight_update = torch.min(critic_mse, critic2_mse).detach().squeeze().cpu().numpy()\n",
        "        self.replay_buffer.update_weights(weight_update)\n",
        "        critic_loss = critic_mse.mean()\n",
        "        critic2_loss = critic2_mse.mean()\n",
        "\n",
        "        if self.use_cql and self.offline:\n",
        "            cql_loss = self.cql_loss(q1_local, soft_q_values)\n",
        "            cql_loss2 = self.cql_loss(q2_local, soft_q_values2)\n",
        "            critic_loss += self.TRADEOFF_FACTOR * cql_loss\n",
        "            critic2_loss += self.TRADEOFF_FACTOR * cql_loss2\n",
        "\n",
        "        return critic_loss, critic2_loss\n",
        "        ##########################################################\n",
        "\n",
        "    def actor_loss(self, states_tensor):\n",
        "        ##########################################################\n",
        "        # TODO (8 points):\n",
        "        # Now implement the actor loss.\n",
        "        ##########################################################\n",
        "        actor_loss, log_action_probabilities = 0, 0\n",
        "        action_probabilities, log_action_probabilities = self.get_action_info(states_tensor)\n",
        "        q_values = self.critic_local(states_tensor)\n",
        "        q_values2 = self.critic_local2(states_tensor)\n",
        "        min_q_values = torch.min(q_values, q_values2)\n",
        "        inside_term = self.alpha * log_action_probabilities - min_q_values\n",
        "        actor_loss = (action_probabilities * inside_term).sum(dim=1).mean()\n",
        "        return actor_loss, log_action_probabilities\n",
        "        ##########################################################\n",
        "\n",
        "    def train_on_transition(self, state, discrete_action, next_state, reward, done):\n",
        "        transition = (state, discrete_action, reward, next_state, done)\n",
        "        self.train_networks(transition)\n",
        "\n",
        "    def train_networks(self, transition=None, batch_deterministic_start=None):\n",
        "        ##########################################################\n",
        "        # TODO (6 points):\n",
        "        # Set all the gradients stored in the optimizers to zero.\n",
        "        # Add the new transition to the replay buffer for online case.\n",
        "        ##########################################################\n",
        "        self.critic_optimiser.zero_grad()\n",
        "        self.critic_optimiser2.zero_grad()\n",
        "        self.actor_optimiser.zero_grad()\n",
        "        self.alpha_optimiser.zero_grad()\n",
        "\n",
        "        if not self.offline:\n",
        "            self.replay_buffer.add_transition(transition)\n",
        "\n",
        "        if self.replay_buffer.get_size() >= self.REPLAY_BUFFER_BATCH_SIZE:\n",
        "            minibatch = self.replay_buffer.sample_minibatch(self.REPLAY_BUFFER_BATCH_SIZE,\n",
        "                                                            batch_deterministic_start=batch_deterministic_start)\n",
        "            minibatch_separated = list(map(list, zip(*minibatch)))\n",
        "\n",
        "            states_tensor = torch.tensor(np.array(minibatch_separated[0]))\n",
        "            actions_tensor = torch.tensor(np.array(minibatch_separated[1]))\n",
        "            rewards_tensor = torch.tensor(np.array(minibatch_separated[2])).float()\n",
        "            next_states_tensor = torch.tensor(np.array(minibatch_separated[3]))\n",
        "            done_tensor = torch.tensor(np.array(minibatch_separated[4]))\n",
        "\n",
        "            ##########################################################\n",
        "            # TODO (16 points):\n",
        "            # Here, you should compute the gradients based on this loss, i.e. the gradients\n",
        "            # of the loss with respect to the Q-network parameters.\n",
        "            # Given a minibatch of 100 transitions from replay buffer,\n",
        "            # compute the critic loss and perform the backpropagation,\n",
        "            # then compute the actor loss and backpropagate the gradient on it.\n",
        "            # You also need to update \\alpha.\n",
        "            ##########################################################\n",
        "            critic_loss, critic2_loss = self.critic_loss(\n",
        "                states_tensor, actions_tensor, rewards_tensor,\n",
        "                next_states_tensor, done_tensor\n",
        "            )\n",
        "            critic_loss.backward()\n",
        "            critic2_loss.backward()\n",
        "            self.critic_optimiser.step()\n",
        "            self.critic_optimiser2.step()\n",
        "\n",
        "            actor_loss, log_action_probabilities = self.actor_loss(states_tensor)\n",
        "            actor_loss.backward()\n",
        "            self.actor_optimiser.step()\n",
        "\n",
        "            alpha_loss = self.temperature_loss(log_action_probabilities)\n",
        "            alpha_loss.backward()\n",
        "            self.alpha_optimiser.step()\n",
        "            self.alpha = self.log_alpha.exp()\n",
        "            ##########################################################\n",
        "\n",
        "            self.soft_update_target_networks()\n",
        "            return np.array(minibatch_separated[2]) # rewards\n",
        "\n",
        "    def temperature_loss(self, log_action_probabilities):\n",
        "        alpha_loss = -(self.log_alpha * (log_action_probabilities + self.target_entropy).detach()).mean()\n",
        "        return alpha_loss\n",
        "\n",
        "    def get_action_info(self, states_tensor):\n",
        "        action_probabilities = self.actor_local.forward(states_tensor)\n",
        "        z = action_probabilities == 0.0\n",
        "        z = z.float() * 1e-8\n",
        "        log_action_probabilities = torch.log(action_probabilities + z)\n",
        "        return action_probabilities, log_action_probabilities\n",
        "\n",
        "    def get_action_probabilities(self, state):\n",
        "        state_tensor = torch.tensor(state, dtype=torch.float32).unsqueeze(0)\n",
        "        action_probabilities = self.actor_local.forward(state_tensor)\n",
        "        return action_probabilities.squeeze(0).detach().numpy()\n",
        "\n",
        "    def soft_update_target_networks(self, tau=SOFT_UPDATE_INTERPOLATION_FACTOR):\n",
        "        self.soft_update(self.critic_target, self.critic_local, tau)\n",
        "        self.soft_update(self.critic_target2, self.critic_local2, tau)\n",
        "\n",
        "    def soft_update(self, target_model, origin_model, tau):\n",
        "        for target_param, local_param in zip(target_model.parameters(), origin_model.parameters()):\n",
        "            target_param.data.copy_(tau * local_param.data + (1 - tau) * target_param.data)\n",
        "\n",
        "    def predict_q_values(self, state):\n",
        "        q_values = self.critic_local(state)\n",
        "        q_values2 = self.critic_local2(state)\n",
        "        return torch.min(q_values, q_values2)"
      ]
    },
    {
      "cell_type": "markdown",
      "metadata": {
        "id": "X7Tx4pS_kdo-"
      },
      "source": [
        "## Online SAC training loop (10 points)"
      ]
    },
    {
      "cell_type": "markdown",
      "metadata": {
        "id": "jUm9_qfAlvf_"
      },
      "source": [
        "Now evaluate your model in CartPole environment in the online setting. After each 4 episodes, you should evaluate your model on a separate test environment. Run your model 4 times separately and plot the mean and deviation of the evaluation curves.\n",
        "\n",
        "**NOTE:** Since you are going to use the replay buffer of this agent as the offline dataset, you may want to save it for later use."
      ]
    },
    {
      "cell_type": "code",
      "source": [
        "def plot_learning_curves(total_results):\n",
        "    mean_returns = np.mean(total_results, axis=0)\n",
        "    run_std_devs = np.std(total_results, axis=0)\n",
        "    std_devs = np.mean(run_std_devs)\n",
        "\n",
        "    plt.plot(mean_returns)\n",
        "    plt.fill_between(range(len(mean_returns)), mean_returns - std_devs, mean_returns + std_devs, alpha=0.3)\n",
        "    plt.xlabel(\"Epochs\")\n",
        "    plt.ylabel(\"Mean Return\")\n",
        "    plt.title(\"Learning Curves\")\n",
        "    plt.show()\n",
        "\n",
        "\n",
        "def plot_episode_mean(episode_rewards, episode):\n",
        "    plt.plot(episode_rewards)\n",
        "    plt.xlabel(f\"Episodes * {TRAINING_EVALUATION_RATIO}\")\n",
        "    plt.ylabel(\"Mean Reward\")\n",
        "    plt.title(f\"Episode = {episode}\")\n",
        "    plt.show()"
      ],
      "metadata": {
        "id": "LOqeBE0S93Kq"
      },
      "execution_count": 7,
      "outputs": []
    },
    {
      "cell_type": "code",
      "source": [
        "from IPython.display import clear_output\n",
        "\n",
        "\n",
        "def run_training(replay_buffer, num_runs):\n",
        "    total_results = []\n",
        "\n",
        "    for run in range(num_runs):\n",
        "        agent = SACAgent(env)\n",
        "        run_results = []\n",
        "\n",
        "        for episode in range(EPISODES_PER_RUN):\n",
        "            print('\\r', f'Run: {run + 1}/{num_runs} | Episode: {episode + 1}/{EPISODES_PER_RUN}', end=' ')\n",
        "            state = env.reset()\n",
        "            evaluation_episode = episode % TRAINING_EVALUATION_RATIO == 0\n",
        "            episode_reward = 0\n",
        "\n",
        "            for step in range(STEPS_PER_EPISODE):\n",
        "                action = agent.get_next_action(state, evaluation_episode)\n",
        "                next_state, reward, done, _ = env.step(action)\n",
        "                transition = (state, action, reward, next_state, done)\n",
        "                replay_buffer.add_transition(transition)\n",
        "\n",
        "                if not evaluation_episode:\n",
        "                    agent.train_on_transition(state, action, next_state, reward, done)\n",
        "                else:\n",
        "                    episode_reward += reward\n",
        "                state = next_state\n",
        "\n",
        "                if done:\n",
        "                    break\n",
        "\n",
        "            if evaluation_episode:\n",
        "                clear_output()\n",
        "                run_results.append(episode_reward)\n",
        "                plot_episode_mean(run_results, episode)\n",
        "\n",
        "        total_results.append(run_results)\n",
        "\n",
        "    return total_results"
      ],
      "metadata": {
        "id": "8CZJFZN9C9MF"
      },
      "execution_count": 49,
      "outputs": []
    },
    {
      "cell_type": "code",
      "execution_count": 52,
      "metadata": {
        "id": "c6quXtBzZ6nZ",
        "colab": {
          "base_uri": "https://localhost:8080/",
          "height": 489
        },
        "outputId": "953bb029-3209-4d8d-d446-cbca79fb815f"
      },
      "outputs": [
        {
          "output_type": "display_data",
          "data": {
            "text/plain": [
              "<Figure size 640x480 with 1 Axes>"
            ],
            "image/png": "[encoded data removed]"
          },
          "metadata": {}
        },
        {
          "output_type": "stream",
          "name": "stdout",
          "text": [
            " Run: 4/4 | Episode: 200/200 "
          ]
        }
      ],
      "source": [
        "TRAINING_EVALUATION_RATIO = 10\n",
        "EPISODES_PER_RUN = 200\n",
        "STEPS_PER_EPISODE = 200\n",
        "\n",
        "env = gym.make(\"CartPole-v1\")\n",
        "\n",
        "##########################################################\n",
        "# TODO (10 points):\n",
        "# Implement the training loop for the online SAC.\n",
        "# 1) You need to initialize an agent with the\n",
        "#    `replay_buffer` set to None. Also, leave the\n",
        "#    `use_cql` and `offline` flags to remain False.\n",
        "# 2) After each epoch, run `EPISODES_PER_RUN` validation\n",
        "#    episodes and plot the mean return over these\n",
        "#    episodes in the end.\n",
        "# 3) Plot the learning curves.\n",
        "##########################################################\n",
        "\n",
        "\n",
        "replay_buffer = ReplayBuffer(env)\n",
        "total_results = run_training(replay_buffer, num_runs=4)"
      ]
    },
    {
      "cell_type": "code",
      "source": [
        "plot_learning_curves(total_results)"
      ],
      "metadata": {
        "colab": {
          "base_uri": "https://localhost:8080/",
          "height": 472
        },
        "id": "4rQYrgGNMOGC",
        "outputId": "5d7cfff3-0d24-4210-bf07-87eba7f222db"
      },
      "execution_count": 10,
      "outputs": [
        {
          "output_type": "display_data",
          "data": {
            "text/plain": [
              "<Figure size 640x480 with 1 Axes>"
            ],
            "image/png": "[encoded data removed]"
          },
          "metadata": {}
        }
      ]
    },
    {
      "cell_type": "code",
      "source": [
        "import pickle\n",
        "\n",
        "pickle.dump(replay_buffer, open(\"sac_replay_buffer.pkl\", \"wb\"))"
      ],
      "metadata": {
        "colab": {
          "base_uri": "https://localhost:8080/"
        },
        "id": "rDr-YRouf4Ys",
        "outputId": "e573b0d2-57c4-42b6-b83e-b4d197716a42"
      },
      "execution_count": 42,
      "outputs": [
        {
          "output_type": "stream",
          "name": "stderr",
          "text": [
            "/usr/local/lib/python3.10/dist-packages/ipykernel/ipkernel.py:283: DeprecationWarning: `should_run_async` will not call `transform_cell` automatically in the future. Please pass the result to `transformed_cell` argument and any exception that happen during thetransform in `preprocessing_exc_tuple` in IPython 7.17 and above.\n",
            "  and should_run_async(code)\n"
          ]
        }
      ]
    },
    {
      "cell_type": "markdown",
      "metadata": {
        "id": "WxqbDN6DU0AY"
      },
      "source": [
        "## Offline SAC training loop (10 points)"
      ]
    },
    {
      "cell_type": "markdown",
      "metadata": {
        "id": "QRwciG6WU6ES"
      },
      "source": [
        "In this part you are going to train an SAC agent using the replay buffer from the online agent. During training you sample from this replay buffer and train the offline agent **without adding transitions to the replay buffer**. The loss function and every thing else is the same as the online setting."
      ]
    },
    {
      "cell_type": "code",
      "source": [
        "import tqdm\n",
        "\n",
        "\n",
        "def run_offline_training(replay_buffer, num_runs, use_cql=False):\n",
        "    total_results = []\n",
        "\n",
        "    batch_size = 100\n",
        "    for run in range(num_runs):\n",
        "        agent = SACAgent(environment=env, replay_buffer=replay_buffer, use_cql=use_cql, offline=True)\n",
        "        run_results = []\n",
        "\n",
        "        for epoch in tqdm.tqdm(range(NUM_EPOCHS)):\n",
        "            batch_deterministic_start = 0\n",
        "            while batch_deterministic_start < replay_buffer.get_size():\n",
        "                agent.train_networks(batch_deterministic_start=batch_deterministic_start)\n",
        "                batch_deterministic_start += batch_size\n",
        "\n",
        "            epoch_result = []\n",
        "            for episode in range(EPISODES_PER_RUN):\n",
        "                state = env.reset()\n",
        "                evaluation_episode = episode % TRAINING_EVALUATION_RATIO == 0\n",
        "                episode_reward = 0\n",
        "\n",
        "                for step in range(STEPS_PER_EPISODE):\n",
        "                    action = agent.get_next_action(state, evaluation_episode)\n",
        "                    next_state, reward, done, _ = env.step(action)\n",
        "\n",
        "                    episode_reward += reward\n",
        "                    state = next_state\n",
        "\n",
        "                    if done:\n",
        "                        break\n",
        "\n",
        "                if evaluation_episode:\n",
        "                    epoch_result.append(episode_reward)\n",
        "\n",
        "            run_results.append(np.mean(epoch_result))\n",
        "        total_results.append(run_results)\n",
        "    return total_results"
      ],
      "metadata": {
        "id": "HiP058W1XvU_",
        "colab": {
          "base_uri": "https://localhost:8080/"
        },
        "outputId": "ce7ad8a6-75ec-439a-8fbe-e9f8b4db8daf"
      },
      "execution_count": 79,
      "outputs": [
        {
          "output_type": "stream",
          "name": "stderr",
          "text": [
            "/usr/local/lib/python3.10/dist-packages/ipykernel/ipkernel.py:283: DeprecationWarning: `should_run_async` will not call `transform_cell` automatically in the future. Please pass the result to `transformed_cell` argument and any exception that happen during thetransform in `preprocessing_exc_tuple` in IPython 7.17 and above.\n",
            "  and should_run_async(code)\n"
          ]
        }
      ]
    },
    {
      "cell_type": "code",
      "execution_count": 80,
      "metadata": {
        "id": "AcArEy_EU5H0",
        "colab": {
          "base_uri": "https://localhost:8080/"
        },
        "outputId": "08faa107-f548-4ed8-a5fb-4ac1ae61bd21"
      },
      "outputs": [
        {
          "output_type": "stream",
          "name": "stderr",
          "text": [
            "/usr/local/lib/python3.10/dist-packages/gym/core.py:317: DeprecationWarning: \u001b[33mWARN: Initializing wrapper in old step API which returns one bool instead of two. It is recommended to set `new_step_api=True` to use new step API. This will be the default behaviour in future.\u001b[0m\n",
            "  deprecation(\n",
            "/usr/local/lib/python3.10/dist-packages/gym/wrappers/step_api_compatibility.py:39: DeprecationWarning: \u001b[33mWARN: Initializing environment in old step API which returns one bool instead of two. It is recommended to set `new_step_api=True` to use new step API. This will be the default behaviour in future.\u001b[0m\n",
            "  deprecation(\n",
            "100%|██████████| 200/200 [43:42<00:00, 13.11s/it]\n"
          ]
        }
      ],
      "source": [
        "RUNS = 1\n",
        "NUM_EPOCHS = 200\n",
        "EPISODES_PER_RUN = 200\n",
        "\n",
        "env = gym.make(\"CartPole-v1\")\n",
        "\n",
        "##########################################################\n",
        "# TODO (10 points):\n",
        "# Implement the training loop for the offline SAC.\n",
        "# 1) You need to initialize an agent with the\n",
        "#    `replay_buffer` of the pretrained online agent. Set\n",
        "#     the `offline` flag and leave the `use_cql` flag to\n",
        "#     remain False.\n",
        "# 2) You can use `batch_deterministic_start` in the\n",
        "#    `train_networks` method to select all minibatches\n",
        "#    of the data to train in an offline manner.\n",
        "# 3) After each epoch, run `EPISODES_PER_RUN` validation\n",
        "#    episodes and plot the mean return over these\n",
        "#    episodes in the end.\n",
        "##########################################################\n",
        "\n",
        "total_results_offline = run_offline_training(replay_buffer, num_runs=RUNS, use_cql=False)"
      ]
    },
    {
      "cell_type": "code",
      "source": [
        "plot_learning_curves(total_results_offline)"
      ],
      "metadata": {
        "colab": {
          "base_uri": "https://localhost:8080/",
          "height": 472
        },
        "id": "9g2jrtuLMPjz",
        "outputId": "7bc17397-c885-4f4d-ba71-704ebbf6eb5f"
      },
      "execution_count": 81,
      "outputs": [
        {
          "output_type": "display_data",
          "data": {
            "text/plain": [
              "<Figure size 640x480 with 1 Axes>"
            ],
            "image/png": "[encoded data removed]"
          },
          "metadata": {}
        }
      ]
    },
    {
      "cell_type": "markdown",
      "metadata": {
        "id": "CJ8HlBr0kkZv"
      },
      "source": [
        "## Conservative SAC training loop (5 points)"
      ]
    },
    {
      "cell_type": "markdown",
      "metadata": {
        "id": "VOIESLFwXs7Q"
      },
      "source": [
        "Similar to the previous part, you are going to train another offline agent. In this part, you are going to use the conservative version of SAC."
      ]
    },
    {
      "cell_type": "code",
      "execution_count": 82,
      "metadata": {
        "id": "vP_L7h0bYD4V",
        "colab": {
          "base_uri": "https://localhost:8080/"
        },
        "outputId": "64b314ca-ee6d-4dd6-e665-4afebb0b888f"
      },
      "outputs": [
        {
          "output_type": "stream",
          "name": "stderr",
          "text": [
            "100%|██████████| 200/200 [1:11:55<00:00, 21.58s/it]\n"
          ]
        }
      ],
      "source": [
        "RUNS = 1\n",
        "NUM_EPOCHS = 200\n",
        "EPISODES_PER_RUN = 200\n",
        "\n",
        "env = gym.make(\"CartPole-v1\")\n",
        "\n",
        "##########################################################\n",
        "# TODO (5 points):\n",
        "# Implement the training loop for the conservative SAC.\n",
        "# 1) You need to initialize an agent with the current\n",
        "#    `replay_buffer` of the online agent. Set the `offline`\n",
        "#     and `use_cql` flags.\n",
        "# 2) You can use `batch_deterministic_start` in the\n",
        "#    `train_networks` method to select all minibatches\n",
        "#    of the data to train in an offline manner.\n",
        "# 3) After each epoch, run `EPISODES_PER_RUN` validation\n",
        "#    episodes and plot the mean return over these\n",
        "#    episodes in the end.\n",
        "##########################################################\n",
        "\n",
        "\n",
        "total_results_cql = run_offline_training(replay_buffer, num_runs=RUNS, use_cql=True)"
      ]
    },
    {
      "cell_type": "code",
      "source": [
        "plot_learning_curves(total_results_cql)"
      ],
      "metadata": {
        "id": "6o0tqVhtMUip",
        "colab": {
          "base_uri": "https://localhost:8080/",
          "height": 472
        },
        "outputId": "8a25dab7-a5bd-40aa-e93c-4701bac625a9"
      },
      "execution_count": 83,
      "outputs": [
        {
          "output_type": "display_data",
          "data": {
            "text/plain": [
              "<Figure size 640x480 with 1 Axes>"
            ],
            "image/png": "[encoded data removed]"
          },
          "metadata": {}
        }
      ]
    },
    {
      "cell_type": "markdown",
      "metadata": {
        "id": "3q3LIScuYTeX"
      },
      "source": [
        "## Comparisons (14 points)\n",
        "Now, analyze your results and justify the trends you see. Then answer the following questions.\n",
        "\n",
        "> In terms of performance, online SAC can achieve state-of-the-art results on many continuous control tasks, but it can be sensitive to the choice of hyperparameters and the exploration strategy. Offline SAC can also achieve good performance, but it typically requires more data and may not generalize well to new states. C-Offline SAC can achieve similar or better performance than offline SAC while also improving the robustness and generalization of the learned policy.\n",
        "\n",
        "> In terms of sample efficiency, online SAC can be more sample-efficient than offline SAC since it can use the most recent data to update the policy. However, offline SAC can be more efficient in terms of data collection since it can reuse existing data and doesn't require interaction with the environment. C-Offline SAC can achieve similar or better sample efficiency than offline SAC since it can reuse existing data while also improving the quality of the learned policy.\n",
        "\n",
        "> Here, we can see that the results of online SAC and it's convergence and stablity is better than the others. Then, CQL has a greate effect on offline SAC and make it reach the results in online SAC.\n",
        "\n",
        "❓ What is the reason for the difference between online and offline performance of the agent?\n",
        "\n",
        "> The difference between the online and offline performance of the agent is due to the availability of data. In the online setting, the agent learns directly from interactions with the environment, which allows it to adapt and improve its policy based on the rewards and feedback it receives in real-time. On the other hand, in the offline setting, the agent learns from a fixed dataset of pre-collected experiences. This dataset may not fully represent the dynamics and complexities of the environment, leading to a performance gap between online and offline learning.\n",
        "\n",
        "❓ Which one is better: offline SAC or conservative SAC?\n",
        "\n",
        "> The better option between offline SAC and conservative SAC depends on the specific requirements and constraints of the problem at hand. Offline SAC can leverage a large pre-collected dataset and potentially achieve good performance. However, it may also be sensitive to biases and limitations in the dataset, leading to suboptimal results. On the other hand, conservative SAC, such as SAC with CQL, introduces additional constraints to make the policy more conservative and match the behavior observed in the offline dataset. This can help mitigate the issues of dataset biases and improve the safety and stability of the learned policy. Therefore, if preserving safety and robustness is a priority, conservative SAC may be a better choice.\n",
        "\n",
        "❓ What is the effect of `TRADEOFF_FACTOR` in the offline setting? How does changing its value affect the results?\n",
        "\n",
        "> The `TRADEOFF_FACTOR` in the offline setting controls the trade-off between exploration and sticking to the behavior observed in the offline dataset. A higher TRADEOFF_FACTOR encourages the agent to be more conservative and stay closer to the observed behavior, while a lower value allows for more exploration and deviation from the dataset. Increasing the TRADEOFF_FACTOR leads to a more conservative policy that is less likely to explore new actions and more likely to follow the behavior observed in the offline dataset. Conversely, decreasing the TRADEOFF_FACTOR allows for more exploration and deviation from the dataset, which can lead to a potentially more adaptive and innovative policy. The choice of the TRADEOFF_FACTOR should be based on the specific requirements and trade-offs of the problem, considering factors such as the quality and representativeness of the offline dataset and the desired level of exploration.\n"
      ]
    }
  ],
  "metadata": {
    "colab": {
      "provenance": []
    },
    "kernelspec": {
      "display_name": "Python 3",
      "name": "python3"
    },
    "language_info": {
      "name": "python"
    }
  },
  "nbformat": 4,
  "nbformat_minor": 0
}